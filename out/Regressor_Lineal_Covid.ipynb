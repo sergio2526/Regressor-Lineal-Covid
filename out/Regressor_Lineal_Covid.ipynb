{
  "nbformat": 4,
  "nbformat_minor": 0,
  "metadata": {
    "colab": {
      "name": "Regressor Lineal-Covid.ipynb",
      "provenance": [],
      "collapsed_sections": [],
      "toc_visible": true
    },
    "kernelspec": {
      "name": "python3",
      "display_name": "Python 3"
    },
    "accelerator": "GPU"
  },
  "cells": [
    {
      "cell_type": "markdown",
      "metadata": {
        "id": "eXVmatuOSDT1",
        "colab_type": "text"
      },
      "source": [
        "**Municipios de colombia mas afectados por el Covid-19, al pasar de los dias.**"
      ]
    },
    {
      "cell_type": "code",
      "metadata": {
        "id": "-G6vkcjbCMU_",
        "colab_type": "code",
        "colab": {}
      },
      "source": [
        "\n",
        "import pandas as pd\n",
        "import numpy as np\n",
        "import matplotlib.pyplot as plt\n"
      ],
      "execution_count": 0,
      "outputs": []
    },
    {
      "cell_type": "code",
      "metadata": {
        "id": "j0CT3Jt2Cxe2",
        "colab_type": "code",
        "colab": {}
      },
      "source": [
        "dataset = pd.read_csv(\"Casos4.csv\")"
      ],
      "execution_count": 0,
      "outputs": []
    },
    {
      "cell_type": "code",
      "metadata": {
        "id": "k7vDzEqqC5Kw",
        "colab_type": "code",
        "outputId": "26faa6d1-8213-4584-9df8-82529fa86c96",
        "colab": {
          "base_uri": "https://localhost:8080/",
          "height": 204
        }
      },
      "source": [
        "dataset.head(5)"
      ],
      "execution_count": 4,
      "outputs": [
        {
          "output_type": "execute_result",
          "data": {
            "text/html": [
              "<div>\n",
              "<style scoped>\n",
              "    .dataframe tbody tr th:only-of-type {\n",
              "        vertical-align: middle;\n",
              "    }\n",
              "\n",
              "    .dataframe tbody tr th {\n",
              "        vertical-align: top;\n",
              "    }\n",
              "\n",
              "    .dataframe thead th {\n",
              "        text-align: right;\n",
              "    }\n",
              "</style>\n",
              "<table border=\"1\" class=\"dataframe\">\n",
              "  <thead>\n",
              "    <tr style=\"text-align: right;\">\n",
              "      <th></th>\n",
              "      <th>ID de caso</th>\n",
              "      <th>Fecha de diagnóstico</th>\n",
              "      <th>Ciudad de ubicación</th>\n",
              "      <th>Departamento</th>\n",
              "      <th>Atención</th>\n",
              "      <th>Edad</th>\n",
              "      <th>Sexo</th>\n",
              "      <th>Tipo*</th>\n",
              "      <th>País de procedencia</th>\n",
              "    </tr>\n",
              "  </thead>\n",
              "  <tbody>\n",
              "    <tr>\n",
              "      <th>0</th>\n",
              "      <td>1</td>\n",
              "      <td>06/03/2020</td>\n",
              "      <td>Bogotá</td>\n",
              "      <td>Bogotá</td>\n",
              "      <td>Recuperado</td>\n",
              "      <td>10 a 19</td>\n",
              "      <td>F</td>\n",
              "      <td>Importado</td>\n",
              "      <td>Italia</td>\n",
              "    </tr>\n",
              "    <tr>\n",
              "      <th>1</th>\n",
              "      <td>2</td>\n",
              "      <td>09/03/2020</td>\n",
              "      <td>Buga</td>\n",
              "      <td>Valle</td>\n",
              "      <td>Recuperado</td>\n",
              "      <td>30 a 39</td>\n",
              "      <td>M</td>\n",
              "      <td>Importado</td>\n",
              "      <td>España</td>\n",
              "    </tr>\n",
              "    <tr>\n",
              "      <th>2</th>\n",
              "      <td>3</td>\n",
              "      <td>09/03/2020</td>\n",
              "      <td>Medellín</td>\n",
              "      <td>Antioquia</td>\n",
              "      <td>Recuperado</td>\n",
              "      <td>50 a 59</td>\n",
              "      <td>F</td>\n",
              "      <td>Importado</td>\n",
              "      <td>España</td>\n",
              "    </tr>\n",
              "    <tr>\n",
              "      <th>3</th>\n",
              "      <td>4</td>\n",
              "      <td>11/03/2020</td>\n",
              "      <td>Medellín</td>\n",
              "      <td>Antioquia</td>\n",
              "      <td>En casa</td>\n",
              "      <td>50 a 59</td>\n",
              "      <td>M</td>\n",
              "      <td>Relacionado</td>\n",
              "      <td>Colombia</td>\n",
              "    </tr>\n",
              "    <tr>\n",
              "      <th>4</th>\n",
              "      <td>5</td>\n",
              "      <td>11/03/2020</td>\n",
              "      <td>Medellín</td>\n",
              "      <td>Antioquia</td>\n",
              "      <td>Recuperado</td>\n",
              "      <td>20 a 29</td>\n",
              "      <td>M</td>\n",
              "      <td>Relacionado</td>\n",
              "      <td>Colombia</td>\n",
              "    </tr>\n",
              "  </tbody>\n",
              "</table>\n",
              "</div>"
            ],
            "text/plain": [
              "   ID de caso Fecha de diagnóstico  ...        Tipo* País de procedencia\n",
              "0           1           06/03/2020  ...    Importado              Italia\n",
              "1           2           09/03/2020  ...    Importado              España\n",
              "2           3           09/03/2020  ...    Importado              España\n",
              "3           4           11/03/2020  ...  Relacionado            Colombia\n",
              "4           5           11/03/2020  ...  Relacionado            Colombia\n",
              "\n",
              "[5 rows x 9 columns]"
            ]
          },
          "metadata": {
            "tags": []
          },
          "execution_count": 4
        }
      ]
    },
    {
      "cell_type": "code",
      "metadata": {
        "id": "cpy6WezMAX-s",
        "colab_type": "code",
        "colab": {}
      },
      "source": [
        "dataset = dataset.rename(columns={'Ciudad de ubicación':'Ciudad_de_ubicación'})"
      ],
      "execution_count": 0,
      "outputs": []
    },
    {
      "cell_type": "code",
      "metadata": {
        "id": "VEPugClbG11R",
        "colab_type": "code",
        "colab": {}
      },
      "source": [
        "dataset['Dia'] = dataset['Fecha de diagnóstico']"
      ],
      "execution_count": 0,
      "outputs": []
    },
    {
      "cell_type": "code",
      "metadata": {
        "id": "OE8OTacPB7KQ",
        "colab_type": "code",
        "colab": {}
      },
      "source": [
        "\n",
        "dataset.Ciudad_de_ubicación = dataset.Ciudad_de_ubicación.replace({'Bogota':'Bogotá','Cucuta':'Cúcuta'})"
      ],
      "execution_count": 0,
      "outputs": []
    },
    {
      "cell_type": "code",
      "metadata": {
        "id": "8hZigd6hHn9M",
        "colab_type": "code",
        "outputId": "ae1b3647-e434-4d64-eb00-5ae0aecf925d",
        "colab": {
          "base_uri": "https://localhost:8080/",
          "height": 51
        }
      },
      "source": [
        "dataset.Dia = dataset.Dia.replace({'06/03/2020':6, '09/03/2020':9,'11/03/2020':11,'12/03/2020':12,'13/03/2020':13,'14/03/2020':14,'15/03/2020':15,'16/03/2020':16,'17/03/2020':17,\n",
        "                                                       '18/03/2020':18,'19/03/2020':19,'20/03/2020':20,'21/03/2020':21, '22/03/2020':22,'23/03/2020':23 ,'24/03/2020':24,\n",
        "                                                        '25/03/2020':25, '26/03/2020':26,'27/3/2020':27,'28/3/2020':28})\n",
        "\n",
        "dataset['Dia'].unique()"
      ],
      "execution_count": 8,
      "outputs": [
        {
          "output_type": "execute_result",
          "data": {
            "text/plain": [
              "array([ 6,  9, 11, 12, 13, 14, 15, 16, 17, 18, 19, 20, 21, 22, 23, 24, 25,\n",
              "       26, 27, 28])"
            ]
          },
          "metadata": {
            "tags": []
          },
          "execution_count": 8
        }
      ]
    },
    {
      "cell_type": "code",
      "metadata": {
        "id": "YDYs_BXtpgNG",
        "colab_type": "code",
        "outputId": "0362238f-f9f5-40df-f182-cb48a46dfb2f",
        "colab": {
          "base_uri": "https://localhost:8080/",
          "height": 102
        }
      },
      "source": [
        "dataset['Fecha de diagnóstico'].unique()"
      ],
      "execution_count": 9,
      "outputs": [
        {
          "output_type": "execute_result",
          "data": {
            "text/plain": [
              "array(['06/03/2020', '09/03/2020', '11/03/2020', '12/03/2020',\n",
              "       '13/03/2020', '14/03/2020', '15/03/2020', '16/03/2020',\n",
              "       '17/03/2020', '18/03/2020', '19/03/2020', '20/03/2020',\n",
              "       '21/03/2020', '22/03/2020', '23/03/2020', '24/03/2020',\n",
              "       '25/03/2020', '26/03/2020', '27/3/2020', '28/3/2020'], dtype=object)"
            ]
          },
          "metadata": {
            "tags": []
          },
          "execution_count": 9
        }
      ]
    },
    {
      "cell_type": "code",
      "metadata": {
        "id": "iJ9Gi9v_DF-y",
        "colab_type": "code",
        "outputId": "eba669de-96ac-4546-9233-f6e46434d5eb",
        "colab": {
          "base_uri": "https://localhost:8080/",
          "height": 272
        }
      },
      "source": [
        "dataset['Ciudad_de_ubicación'].unique()"
      ],
      "execution_count": 10,
      "outputs": [
        {
          "output_type": "execute_result",
          "data": {
            "text/plain": [
              "array(['Bogotá', 'Buga', 'Medellín', 'Itagüí', 'Cartagena', 'Neiva',\n",
              "       'Palmira', 'Villavicencio', 'Rionegro', 'Cali', 'Dosquebradas',\n",
              "       'Cúcuta', 'Manizales', 'Subachoque', 'Soacha', 'Barranquilla',\n",
              "       'Bucaramanga', 'Armenia', 'Pereira', 'Cajicá', 'Tolima', 'Ibagué',\n",
              "       'Popayán', 'Viterbo', 'Anapoima', 'Envigado', 'Santa Marta',\n",
              "       'Chía', 'Madrid', 'Villa del Rosario', 'Guarne', 'Calarcá',\n",
              "       'Valledupar', 'La Dorada', 'Chinchiná', 'San Andrés Islas',\n",
              "       'Yumbo', 'Yopal', 'Guatapé', 'Bello', 'Barbosa', 'Cota',\n",
              "       'Sabaneta', 'Villamaría', 'Trujillo', 'Pacho', 'El Retiro',\n",
              "       'Apartado', 'Ipiales', 'Mosquera', 'La Unión', 'Cartago',\n",
              "       'Fusagasugá', 'La Calera', 'Villeta', 'Palermo', 'San Pedro',\n",
              "       'Darién', 'Funza', 'Tuluá', 'Soledad', 'El Dovio', 'Santana',\n",
              "       'Frontino', 'Tunja', 'Puerto Colombia', 'Pasto', 'Polonuevo',\n",
              "       'Montebello', 'Chinchina', 'Santa Rosa de Oso', 'Turbaco'],\n",
              "      dtype=object)"
            ]
          },
          "metadata": {
            "tags": []
          },
          "execution_count": 10
        }
      ]
    },
    {
      "cell_type": "code",
      "metadata": {
        "id": "-fVu7M89Esb6",
        "colab_type": "code",
        "colab": {}
      },
      "source": [
        "dataset['numero_ciudad'] = dataset['Ciudad_de_ubicación']"
      ],
      "execution_count": 0,
      "outputs": []
    },
    {
      "cell_type": "code",
      "metadata": {
        "id": "kv86Le7jGAOK",
        "colab_type": "code",
        "colab": {}
      },
      "source": [
        "dataset['numero_ciudad'] = pd.factorize(dataset['numero_ciudad'])[0]"
      ],
      "execution_count": 0,
      "outputs": []
    },
    {
      "cell_type": "code",
      "metadata": {
        "id": "akUf9GPEux31",
        "colab_type": "code",
        "outputId": "ef34a616-65e0-4bbd-e2bb-b4cc56e2c92a",
        "colab": {
          "base_uri": "https://localhost:8080/",
          "height": 359
        }
      },
      "source": [
        "dataset.head(10)"
      ],
      "execution_count": 13,
      "outputs": [
        {
          "output_type": "execute_result",
          "data": {
            "text/html": [
              "<div>\n",
              "<style scoped>\n",
              "    .dataframe tbody tr th:only-of-type {\n",
              "        vertical-align: middle;\n",
              "    }\n",
              "\n",
              "    .dataframe tbody tr th {\n",
              "        vertical-align: top;\n",
              "    }\n",
              "\n",
              "    .dataframe thead th {\n",
              "        text-align: right;\n",
              "    }\n",
              "</style>\n",
              "<table border=\"1\" class=\"dataframe\">\n",
              "  <thead>\n",
              "    <tr style=\"text-align: right;\">\n",
              "      <th></th>\n",
              "      <th>ID de caso</th>\n",
              "      <th>Fecha de diagnóstico</th>\n",
              "      <th>Ciudad_de_ubicación</th>\n",
              "      <th>Departamento</th>\n",
              "      <th>Atención</th>\n",
              "      <th>Edad</th>\n",
              "      <th>Sexo</th>\n",
              "      <th>Tipo*</th>\n",
              "      <th>País de procedencia</th>\n",
              "      <th>Dia</th>\n",
              "      <th>numero_ciudad</th>\n",
              "    </tr>\n",
              "  </thead>\n",
              "  <tbody>\n",
              "    <tr>\n",
              "      <th>0</th>\n",
              "      <td>1</td>\n",
              "      <td>06/03/2020</td>\n",
              "      <td>Bogotá</td>\n",
              "      <td>Bogotá</td>\n",
              "      <td>Recuperado</td>\n",
              "      <td>10 a 19</td>\n",
              "      <td>F</td>\n",
              "      <td>Importado</td>\n",
              "      <td>Italia</td>\n",
              "      <td>6</td>\n",
              "      <td>0</td>\n",
              "    </tr>\n",
              "    <tr>\n",
              "      <th>1</th>\n",
              "      <td>2</td>\n",
              "      <td>09/03/2020</td>\n",
              "      <td>Buga</td>\n",
              "      <td>Valle</td>\n",
              "      <td>Recuperado</td>\n",
              "      <td>30 a 39</td>\n",
              "      <td>M</td>\n",
              "      <td>Importado</td>\n",
              "      <td>España</td>\n",
              "      <td>9</td>\n",
              "      <td>1</td>\n",
              "    </tr>\n",
              "    <tr>\n",
              "      <th>2</th>\n",
              "      <td>3</td>\n",
              "      <td>09/03/2020</td>\n",
              "      <td>Medellín</td>\n",
              "      <td>Antioquia</td>\n",
              "      <td>Recuperado</td>\n",
              "      <td>50 a 59</td>\n",
              "      <td>F</td>\n",
              "      <td>Importado</td>\n",
              "      <td>España</td>\n",
              "      <td>9</td>\n",
              "      <td>2</td>\n",
              "    </tr>\n",
              "    <tr>\n",
              "      <th>3</th>\n",
              "      <td>4</td>\n",
              "      <td>11/03/2020</td>\n",
              "      <td>Medellín</td>\n",
              "      <td>Antioquia</td>\n",
              "      <td>En casa</td>\n",
              "      <td>50 a 59</td>\n",
              "      <td>M</td>\n",
              "      <td>Relacionado</td>\n",
              "      <td>Colombia</td>\n",
              "      <td>11</td>\n",
              "      <td>2</td>\n",
              "    </tr>\n",
              "    <tr>\n",
              "      <th>4</th>\n",
              "      <td>5</td>\n",
              "      <td>11/03/2020</td>\n",
              "      <td>Medellín</td>\n",
              "      <td>Antioquia</td>\n",
              "      <td>Recuperado</td>\n",
              "      <td>20 a 29</td>\n",
              "      <td>M</td>\n",
              "      <td>Relacionado</td>\n",
              "      <td>Colombia</td>\n",
              "      <td>11</td>\n",
              "      <td>2</td>\n",
              "    </tr>\n",
              "    <tr>\n",
              "      <th>5</th>\n",
              "      <td>6</td>\n",
              "      <td>11/03/2020</td>\n",
              "      <td>Itagüí</td>\n",
              "      <td>Antioquia</td>\n",
              "      <td>En casa</td>\n",
              "      <td>20 a 29</td>\n",
              "      <td>F</td>\n",
              "      <td>Relacionado</td>\n",
              "      <td>Colombia</td>\n",
              "      <td>11</td>\n",
              "      <td>3</td>\n",
              "    </tr>\n",
              "    <tr>\n",
              "      <th>6</th>\n",
              "      <td>7</td>\n",
              "      <td>11/03/2020</td>\n",
              "      <td>Cartagena</td>\n",
              "      <td>Cartagena</td>\n",
              "      <td>Recuperado</td>\n",
              "      <td>80 a 89</td>\n",
              "      <td>F</td>\n",
              "      <td>Importado</td>\n",
              "      <td>Estados Unidos</td>\n",
              "      <td>11</td>\n",
              "      <td>4</td>\n",
              "    </tr>\n",
              "    <tr>\n",
              "      <th>7</th>\n",
              "      <td>8</td>\n",
              "      <td>11/03/2020</td>\n",
              "      <td>Bogotá</td>\n",
              "      <td>Bogotá</td>\n",
              "      <td>Recuperado</td>\n",
              "      <td>20 a 29</td>\n",
              "      <td>F</td>\n",
              "      <td>Importado</td>\n",
              "      <td>España</td>\n",
              "      <td>11</td>\n",
              "      <td>0</td>\n",
              "    </tr>\n",
              "    <tr>\n",
              "      <th>8</th>\n",
              "      <td>9</td>\n",
              "      <td>11/03/2020</td>\n",
              "      <td>Bogotá</td>\n",
              "      <td>Bogotá</td>\n",
              "      <td>Recuperado</td>\n",
              "      <td>20 a 29</td>\n",
              "      <td>F</td>\n",
              "      <td>Importado</td>\n",
              "      <td>España-Italia</td>\n",
              "      <td>11</td>\n",
              "      <td>0</td>\n",
              "    </tr>\n",
              "    <tr>\n",
              "      <th>9</th>\n",
              "      <td>10</td>\n",
              "      <td>12/03/2020</td>\n",
              "      <td>Bogotá</td>\n",
              "      <td>Bogotá</td>\n",
              "      <td>En casa</td>\n",
              "      <td>30 a 39</td>\n",
              "      <td>F</td>\n",
              "      <td>Importado</td>\n",
              "      <td>España</td>\n",
              "      <td>12</td>\n",
              "      <td>0</td>\n",
              "    </tr>\n",
              "  </tbody>\n",
              "</table>\n",
              "</div>"
            ],
            "text/plain": [
              "   ID de caso Fecha de diagnóstico  ... Dia numero_ciudad\n",
              "0           1           06/03/2020  ...   6             0\n",
              "1           2           09/03/2020  ...   9             1\n",
              "2           3           09/03/2020  ...   9             2\n",
              "3           4           11/03/2020  ...  11             2\n",
              "4           5           11/03/2020  ...  11             2\n",
              "5           6           11/03/2020  ...  11             3\n",
              "6           7           11/03/2020  ...  11             4\n",
              "7           8           11/03/2020  ...  11             0\n",
              "8           9           11/03/2020  ...  11             0\n",
              "9          10           12/03/2020  ...  12             0\n",
              "\n",
              "[10 rows x 11 columns]"
            ]
          },
          "metadata": {
            "tags": []
          },
          "execution_count": 13
        }
      ]
    },
    {
      "cell_type": "code",
      "metadata": {
        "id": "2cUdPlieC7bB",
        "colab_type": "code",
        "outputId": "39e3922e-bf30-494f-a401-054146767b99",
        "colab": {
          "base_uri": "https://localhost:8080/",
          "height": 34
        }
      },
      "source": [
        "dataset.shape"
      ],
      "execution_count": 14,
      "outputs": [
        {
          "output_type": "execute_result",
          "data": {
            "text/plain": [
              "(608, 11)"
            ]
          },
          "metadata": {
            "tags": []
          },
          "execution_count": 14
        }
      ]
    },
    {
      "cell_type": "code",
      "metadata": {
        "id": "puAoBArWDCSe",
        "colab_type": "code",
        "colab": {}
      },
      "source": [
        "def estimate_bo_b1(x, y):\n",
        "    \n",
        "    n = np.size(x)\n",
        "    \n",
        "    #Obtenemos los promedios de X y de y\n",
        "    m_x, m_y = np.mean(x), np.mean(y)\n",
        "    \n",
        "    #Calcular sumatoria de XY y mi sumatoria de XX\n",
        "    Sumatoria_xy = np.sum((x-m_x)*(y-m_y))\n",
        "    Sumatoria_xx = np.sum(x*(x-m_x))\n",
        "    \n",
        "    #coeficiente de regresion\n",
        "    b_1 = Sumatoria_xy / Sumatoria_xx\n",
        "    b_0 = m_y - b_1*m_x\n",
        "    \n",
        "    return (b_0 , b_1)"
      ],
      "execution_count": 0,
      "outputs": []
    },
    {
      "cell_type": "code",
      "metadata": {
        "id": "FqwHDO1RDXsz",
        "colab_type": "code",
        "colab": {}
      },
      "source": [
        "def plot_regression(x,y,b):\n",
        "    plt.scatter(x , y , color = 'green', marker = 'o', s=30)\n",
        "    \n",
        "    y_pred= b[0] + b[1]*x\n",
        "    plt.plot(x, y_pred, color = 'blue')\n",
        "    \n",
        "    plt.xlabel('Dias Covid-19')\n",
        "    plt.ylabel('Municipios con casos de Covid-19')\n",
        "    plt.title('28/03/2020 Colombia')\n",
        "    plt.gca().legend(('Ajuste de datos','Casos registrados'))\n",
        "    plt.savefig('imagen.png', transparent=True)\n",
        "    #plt.xticks(np.arange(28))\n",
        "    \n",
        "    plt.show()"
      ],
      "execution_count": 0,
      "outputs": []
    },
    {
      "cell_type": "code",
      "metadata": {
        "id": "6mYCoP1vDa4E",
        "colab_type": "code",
        "outputId": "402ffae0-9418-4c83-a463-351522022149",
        "colab": {
          "base_uri": "https://localhost:8080/",
          "height": 312
        }
      },
      "source": [
        "def main():\n",
        "    \n",
        "    x = dataset['Dia']\n",
        "    y = dataset['numero_ciudad']\n",
        "    b = estimate_bo_b1(x,y)\n",
        "    print(f'Los valores b0 = {b[0]}, b1 ={b[1]}')\n",
        "    \n",
        "    plot_regression(x, y, b)\n",
        "\n",
        "    \n",
        "    \n",
        "if __name__ == '__main__':\n",
        "    main()"
      ],
      "execution_count": 17,
      "outputs": [
        {
          "output_type": "stream",
          "text": [
            "Los valores b0 = -0.8991255069777253, b1 =0.4525881116728138\n"
          ],
          "name": "stdout"
        },
        {
          "output_type": "display_data",
          "data": {
            "image/png": "[encoded data removed]",
            "text/plain": [
              "<Figure size 432x288 with 1 Axes>"
            ]
          },
          "metadata": {
            "tags": [],
            "needs_background": "light"
          }
        }
      ]
    },
    {
      "cell_type": "code",
      "metadata": {
        "id": "8fopYeStOUDr",
        "colab_type": "code",
        "outputId": "c637f337-8a58-4a4e-c44d-7508968f6872",
        "colab": {
          "base_uri": "https://localhost:8080/",
          "height": 295
        }
      },
      "source": [
        "dataset['numero_ciudad'].hist(grid=True, bins=30, rwidth=0.9,\n",
        "                   color='green')\n",
        "plt.title('28/03/2020 Colombia')\n",
        "plt.xlabel('Municipios Colombia')\n",
        "plt.ylabel('Numero de casos')\n",
        "plt.grid(axis='y', alpha=0.75)\n",
        "plt.gca().legend(('Total de casos 608','Casos registrados'))\n",
        "plt.savefig('hist1.png',transparent=True)"
      ],
      "execution_count": 18,
      "outputs": [
        {
          "output_type": "display_data",
          "data": {
            "image/png": "[encoded data removed]",
            "text/plain": [
              "<Figure size 432x288 with 1 Axes>"
            ]
          },
          "metadata": {
            "tags": [],
            "needs_background": "light"
          }
        }
      ]
    },
    {
      "cell_type": "code",
      "metadata": {
        "id": "naZb4wyf0uD1",
        "colab_type": "code",
        "colab": {}
      },
      "source": [
        "valores_numero_ciudad= pd.DataFrame(dataset['numero_ciudad'].unique())\n",
        "valores_ciudad_ubicación= pd.DataFrame(dataset['Ciudad_de_ubicación'].unique())\n",
        "\n",
        "valores_numero_ciudad.rename(columns={0: 'Numero asignado ciudad'}, inplace=True)\n",
        "valores_ciudad_ubicación.rename(columns={0: 'Ciudad de ubicación'}, inplace=True)\n",
        "\n",
        "\n",
        "representacion_ciudad_ubicacion = pd.concat([valores_numero_ciudad, valores_ciudad_ubicación],axis=1)"
      ],
      "execution_count": 0,
      "outputs": []
    },
    {
      "cell_type": "code",
      "metadata": {
        "id": "NzK0CmjhBwA1",
        "colab_type": "code",
        "outputId": "4129a474-a670-4ce3-aa57-f6b79a5d50ec",
        "colab": {
          "base_uri": "https://localhost:8080/",
          "height": 419
        }
      },
      "source": [
        "\n",
        "representacion_ciudad_ubicacion.head(70)\n"
      ],
      "execution_count": 20,
      "outputs": [
        {
          "output_type": "execute_result",
          "data": {
            "text/html": [
              "<div>\n",
              "<style scoped>\n",
              "    .dataframe tbody tr th:only-of-type {\n",
              "        vertical-align: middle;\n",
              "    }\n",
              "\n",
              "    .dataframe tbody tr th {\n",
              "        vertical-align: top;\n",
              "    }\n",
              "\n",
              "    .dataframe thead th {\n",
              "        text-align: right;\n",
              "    }\n",
              "</style>\n",
              "<table border=\"1\" class=\"dataframe\">\n",
              "  <thead>\n",
              "    <tr style=\"text-align: right;\">\n",
              "      <th></th>\n",
              "      <th>Numero asignado ciudad</th>\n",
              "      <th>Ciudad de ubicación</th>\n",
              "    </tr>\n",
              "  </thead>\n",
              "  <tbody>\n",
              "    <tr>\n",
              "      <th>0</th>\n",
              "      <td>0</td>\n",
              "      <td>Bogotá</td>\n",
              "    </tr>\n",
              "    <tr>\n",
              "      <th>1</th>\n",
              "      <td>1</td>\n",
              "      <td>Buga</td>\n",
              "    </tr>\n",
              "    <tr>\n",
              "      <th>2</th>\n",
              "      <td>2</td>\n",
              "      <td>Medellín</td>\n",
              "    </tr>\n",
              "    <tr>\n",
              "      <th>3</th>\n",
              "      <td>3</td>\n",
              "      <td>Itagüí</td>\n",
              "    </tr>\n",
              "    <tr>\n",
              "      <th>4</th>\n",
              "      <td>4</td>\n",
              "      <td>Cartagena</td>\n",
              "    </tr>\n",
              "    <tr>\n",
              "      <th>...</th>\n",
              "      <td>...</td>\n",
              "      <td>...</td>\n",
              "    </tr>\n",
              "    <tr>\n",
              "      <th>65</th>\n",
              "      <td>65</td>\n",
              "      <td>Puerto Colombia</td>\n",
              "    </tr>\n",
              "    <tr>\n",
              "      <th>66</th>\n",
              "      <td>66</td>\n",
              "      <td>Pasto</td>\n",
              "    </tr>\n",
              "    <tr>\n",
              "      <th>67</th>\n",
              "      <td>67</td>\n",
              "      <td>Polonuevo</td>\n",
              "    </tr>\n",
              "    <tr>\n",
              "      <th>68</th>\n",
              "      <td>68</td>\n",
              "      <td>Montebello</td>\n",
              "    </tr>\n",
              "    <tr>\n",
              "      <th>69</th>\n",
              "      <td>69</td>\n",
              "      <td>Chinchina</td>\n",
              "    </tr>\n",
              "  </tbody>\n",
              "</table>\n",
              "<p>70 rows × 2 columns</p>\n",
              "</div>"
            ],
            "text/plain": [
              "    Numero asignado ciudad Ciudad de ubicación\n",
              "0                        0              Bogotá\n",
              "1                        1                Buga\n",
              "2                        2            Medellín\n",
              "3                        3              Itagüí\n",
              "4                        4           Cartagena\n",
              "..                     ...                 ...\n",
              "65                      65     Puerto Colombia\n",
              "66                      66               Pasto\n",
              "67                      67           Polonuevo\n",
              "68                      68          Montebello\n",
              "69                      69           Chinchina\n",
              "\n",
              "[70 rows x 2 columns]"
            ]
          },
          "metadata": {
            "tags": []
          },
          "execution_count": 20
        }
      ]
    },
    {
      "cell_type": "code",
      "metadata": {
        "id": "Hmx-LCVmnlEE",
        "colab_type": "code",
        "outputId": "f71aa814-2fb4-483f-f9fb-cf6236f2ba98",
        "colab": {
          "base_uri": "https://localhost:8080/",
          "height": 221
        }
      },
      "source": [
        "dataset['Ciudad_de_ubicación'].value_counts()"
      ],
      "execution_count": 21,
      "outputs": [
        {
          "output_type": "execute_result",
          "data": {
            "text/plain": [
              "Bogotá          264\n",
              "Cali             59\n",
              "Medellín         46\n",
              "Cartagena        27\n",
              "Barranquilla     16\n",
              "               ... \n",
              "Guarne            1\n",
              "Tolima            1\n",
              "Frontino          1\n",
              "Trujillo          1\n",
              "Guatapé           1\n",
              "Name: Ciudad_de_ubicación, Length: 72, dtype: int64"
            ]
          },
          "metadata": {
            "tags": []
          },
          "execution_count": 21
        }
      ]
    },
    {
      "cell_type": "code",
      "metadata": {
        "id": "0UGkXGJ9F0m5",
        "colab_type": "code",
        "colab": {}
      },
      "source": [
        ""
      ],
      "execution_count": 0,
      "outputs": []
    }
  ]
}